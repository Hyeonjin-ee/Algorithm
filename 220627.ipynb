{
 "cells": [
  {
   "cell_type": "markdown",
   "id": "f4386c4e",
   "metadata": {},
   "source": [
    "### 10430번 "
   ]
  },
  {
   "cell_type": "code",
   "execution_count": 26,
   "id": "6c510b45",
   "metadata": {},
   "outputs": [
    {
     "name": "stdout",
     "output_type": "stream",
     "text": [
      "100 50\n",
      "<\n"
     ]
    }
   ],
   "source": [
    "a, b = map(int, input().split())\n",
    "\n",
    "if(a > b) :\n",
    "    print('>')\n",
    "if(a < b) :\n",
    "    print('<')\n",
    "if(a == b):\n",
    "    print('=')"
   ]
  },
  {
   "cell_type": "code",
   "execution_count": 28,
   "id": "f1b41744",
   "metadata": {},
   "outputs": [
    {
     "name": "stdout",
     "output_type": "stream",
     "text": [
      "80\n",
      "C\n"
     ]
    }
   ],
   "source": [
    "score = int(input())\n",
    "\n",
    "if(90 < score <= 100) :\n",
    "    print(\"A\")\n",
    "elif(80 < score <= 90) :\n",
    "    print(\"B\")\n",
    "elif(70 < score <= 80) :\n",
    "    print('C')\n",
    "elif(60 < score <= 70) :\n",
    "    print('D')\n",
    "else :\n",
    "    print('F')"
   ]
  },
  {
   "cell_type": "code",
   "execution_count": 33,
   "id": "43535026",
   "metadata": {},
   "outputs": [
    {
     "name": "stdout",
     "output_type": "stream",
     "text": [
      "2012\n",
      "0\n"
     ]
    }
   ],
   "source": [
    "y = int(input())\n",
    "\n",
    "if(y % 4 == 0 & y % 100 != 0 & y % 400 == 0) :\n",
    "    print(1)\n",
    "else :\n",
    "    print(0)"
   ]
  },
  {
   "cell_type": "code",
   "execution_count": 37,
   "id": "a563d512",
   "metadata": {},
   "outputs": [
    {
     "name": "stdout",
     "output_type": "stream",
     "text": [
      "2012\n",
      "1\n"
     ]
    }
   ],
   "source": [
    "y = int(input())\n",
    "\n",
    "print(1) if ((y % 4 == 0) and (y % 100 != 0)) or (y%400 == 0) else print(0)"
   ]
  },
  {
   "cell_type": "code",
   "execution_count": null,
   "id": "cf0306a4",
   "metadata": {},
   "outputs": [],
   "source": [
    "x = int(input())\n",
    "y = int(input())\n",
    "\n",
    "if(x < 0 and y > 0) : \n",
    "    print(2)\n",
    "elif(x > 0 and y > 0) : \n",
    "    print(1)\n",
    "elif(x > 0 and y < 0) :\n",
    "    print(4)\n",
    "else :\n",
    "    print(3)"
   ]
  },
  {
   "cell_type": "code",
   "execution_count": 44,
   "id": "056c53fa",
   "metadata": {},
   "outputs": [
    {
     "name": "stdout",
     "output_type": "stream",
     "text": [
      "23 15\n",
      "22 30\n"
     ]
    }
   ],
   "source": [
    "hour, min = map(int,input().split())\n",
    "\n",
    "if min >= 45:\n",
    "    print(hour, min-45)\n",
    "elif hour>0 and min < 45:\n",
    "    print(hour-1, min+15)\n",
    "else:\n",
    "    print(23, min+15)"
   ]
  }
 ],
 "metadata": {
  "kernelspec": {
   "display_name": "Python 3 (ipykernel)",
   "language": "python",
   "name": "python3"
  },
  "language_info": {
   "codemirror_mode": {
    "name": "ipython",
    "version": 3
   },
   "file_extension": ".py",
   "mimetype": "text/x-python",
   "name": "python",
   "nbconvert_exporter": "python",
   "pygments_lexer": "ipython3",
   "version": "3.9.12"
  }
 },
 "nbformat": 4,
 "nbformat_minor": 5
}
